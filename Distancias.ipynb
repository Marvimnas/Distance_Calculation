{
  "nbformat": 4,
  "nbformat_minor": 0,
  "metadata": {
    "colab": {
      "provenance": [],
      "authorship_tag": "ABX9TyOJXcRjcp0iCDifuiAvAV76",
      "include_colab_link": true
    },
    "kernelspec": {
      "name": "python3",
      "display_name": "Python 3"
    },
    "language_info": {
      "name": "python"
    }
  },
  "cells": [
    {
      "cell_type": "markdown",
      "metadata": {
        "id": "view-in-github",
        "colab_type": "text"
      },
      "source": [
        "<a href=\"https://colab.research.google.com/github/Marvimnas/Distance_Calculation/blob/main/Distancias.ipynb\" target=\"_parent\"><img src=\"https://colab.research.google.com/assets/colab-badge.svg\" alt=\"Open In Colab\"/></a>"
      ]
    },
    {
      "cell_type": "code",
      "source": [
        "import pandas as pd"
      ],
      "metadata": {
        "id": "kYhF3m9uRV2Z"
      },
      "execution_count": null,
      "outputs": []
    },
    {
      "cell_type": "code",
      "execution_count": null,
      "metadata": {
        "id": "FrYvWAb0Q81i"
      },
      "outputs": [],
      "source": [
        "clientes = [\n",
        "    {'Local': 'SJC1', 'latitude': -23.2215, 'longitude': -45.9101},\n",
        "    {'Local': 'SJC2', 'latitude': -23.2005, 'longitude': -45.9172},\n",
        "    {'Local': 'SJC3', 'latitude': -23.1673, 'longitude': -45.8863},\n",
        "    {'Local': 'SJC4', 'latitude': -23.1667, 'longitude': -45.7992},\n",
        "    {'Local': 'SJC5', 'latitude': -23.2147, 'longitude': -45.8007},\n",
        "    {'Local': 'SJC6', 'latitude': -23.2347, 'longitude': -45.8747},\n",
        "    {'Local': 'SJC7', 'latitude': -23.1977, 'longitude': -45.9287}\n",
        "]"
      ]
    },
    {
      "cell_type": "code",
      "source": [
        "data = pd.DataFrame.from_dict(clientes)\n",
        "data.head()"
      ],
      "metadata": {
        "id": "xplc6efCRRyb"
      },
      "execution_count": null,
      "outputs": []
    },
    {
      "cell_type": "code",
      "source": [
        "lat_fabrica = -23.2021\n",
        "long_fabrica = -45.8582"
      ],
      "metadata": {
        "id": "BEcZUzV1RFjC"
      },
      "execution_count": null,
      "outputs": []
    },
    {
      "cell_type": "code",
      "source": [
        "from geopy.distance import geodesic\n",
        "import requests"
      ],
      "metadata": {
        "id": "fB8qAHmWRIql"
      },
      "execution_count": null,
      "outputs": []
    },
    {
      "cell_type": "code",
      "source": [
        "for index, row in data.iterrows():\n",
        "    coordenadas_fabrica = (lat_fabrica, long_fabrica)\n",
        "    coordenadas_clientes = (row['latitude'], row['longitude'])\n",
        "    distancia = round(geodesic(coordenadas_fabrica, coordenadas_clientes).kilometers,2)\n",
        "    print(f\"Distância da fabrica para {row['Local']}: {distancia} km\")"
      ],
      "metadata": {
        "id": "hirwAzBDRaJw"
      },
      "execution_count": null,
      "outputs": []
    },
    {
      "cell_type": "code",
      "source": [
        "def calculate_road_distance(origin, destination):\n",
        "    url = \"http://dev.virtualearth.net/REST/v1/Routes/DistanceMatrix\"\n",
        "    params = {\n",
        "        \"origins\": f\"{origin[0]},{origin[1]}\",\n",
        "        \"destinations\": f\"{destination[0]},{destination[1]}\",\n",
        "        \"travelMode\": \"driving\",\n",
        "        \"key\": \"AmQ4bukp9WLfN9GqIntfn9pJugIvSSSfM7OxMxws5Up0F88YqlsXAA6IAPk6_vdI\"\n",
        "    }\n",
        "    resposta = requests.get(url, params=params)\n",
        "    data = resposta.json()\n",
        "    if \"resourceSets\" in data and data[\"resourceSets\"]:\n",
        "        resultado = data[\"resourceSets\"][0][\"resources\"]\n",
        "        if resultado:\n",
        "            return resultado[0][\"results\"][0][\"travelDistance\"]\n",
        "    return None\n",
        "\n",
        "for index, row in data.iterrows():\n",
        "    coordenadas_clientes = (row['latitude'], row['longitude'])\n",
        "    distancia_real = round(calculate_road_distance((lat_fabrica, long_fabrica), coordenadas_clientes),2)\n",
        "    if distancia_real is not None:\n",
        "        print(f\"Distância para {row['Local']}: {distancia_real} km\")\n",
        "    else:\n",
        "        print(f\"Não foi possível calcular a distância para {row['Local']}\")"
      ],
      "metadata": {
        "id": "6Wzec4BqRszW"
      },
      "execution_count": null,
      "outputs": []
    },
    {
      "cell_type": "code",
      "source": [
        "!pip install folium\n",
        "import folium"
      ],
      "metadata": {
        "id": "x_KkdbO-SEjR"
      },
      "execution_count": null,
      "outputs": []
    },
    {
      "cell_type": "code",
      "source": [
        "mapa = folium.Map(location=[lat_fabrica, long_fabrica], zoom_start=12)\n",
        "\n",
        "for index, row in data.iterrows():\n",
        "    coordenadas_clientes = [row['latitude'], row['longitude']]\n",
        "    distancia = calculate_road_distance((lat_fabrica, long_fabrica), coordenadas_clientes)\n",
        "    if distancia is not None:\n",
        "        folium.Marker(location=coordenadas_clientes, popup=f\"{row['Local']} ({distancia} km)\").add_to(mapa)\n",
        "\n",
        "folium.Marker(location=[lat_fabrica, long_fabrica], popup='Fabrica', icon=folium.Icon(color='red')).add_to(mapa)\n",
        "\n",
        "mapa.save(\"map.html\")\n",
        "mapa"
      ],
      "metadata": {
        "id": "HzGw91XsSE8E"
      },
      "execution_count": null,
      "outputs": []
    }
  ]
}